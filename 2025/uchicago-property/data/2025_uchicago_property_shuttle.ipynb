{
 "cells": [
  {
   "cell_type": "code",
   "execution_count": 1,
   "metadata": {},
   "outputs": [],
   "source": [
    "import geopandas as gpd\n",
    "from shapely.ops import linemerge\n",
    "# !pip install passiogo"
   ]
  },
  {
   "cell_type": "markdown",
   "metadata": {},
   "source": [
    "get shuttle lines\n",
    "drew them on [here](https://www.google.com/maps/d/u/0/edit?hl=en&mid=15vhtrPbe3NuPElObCVDpo5A2L813JAo&ll=41.78667450063453%2C-87.60665579282379&z=15) from [here](https://safety-security.uchicago.edu/en/transportation/shuttle-services). downloaded KML then used [this tool](https://mygeodata.cloud/converter/kml-to-geojson) to covert to geojson rest is below in py"
   ]
  },
  {
   "cell_type": "code",
   "execution_count": 9,
   "metadata": {},
   "outputs": [],
   "source": [
    "#!pip install kml2geojson\n",
    "!k2g uchi_shuttle.kml ."
   ]
  },
  {
   "cell_type": "code",
   "execution_count": null,
   "metadata": {},
   "outputs": [],
   "source": [
    "og = gpd.read_file('style.json', geometry='geometry', crs = \"EPSG:4326\")\n",
    "\n",
    "shuttle = og[og.geom_type != 'Point']\n",
    "\n",
    "# take name color and extract whats between praenthesis\n",
    "shuttle['color'] = shuttle['name'].str.extract(r'\\((.*?)\\)', expand=False)\n",
    "\n",
    "\n",
    "#combine lines for the two midway metra names\n",
    "green_1 = shuttle[shuttle['name'] == 'Midway Metra (GREEN) 1'].geometry.iloc[0]\n",
    "green_2 = shuttle[shuttle['name'] == 'Midway Metra (GREEN) 2'].geometry.iloc[0]\n",
    "# merge the two lines\n",
    "green_line = linemerge([green_1, green_2]) \n",
    "#drop the two lines\n",
    "shuttle = shuttle[shuttle['name'] != 'Midway Metra (GREEN) 1']\n",
    "shuttle = shuttle[shuttle['name'] != 'Midway Metra (GREEN) 2']\n",
    "\n",
    "#add the combined line\n",
    "shuttle = shuttle.append({'name': 'Midway Metra (GREEN)', 'geometry': green_line, 'color':\"GREEN\"}, ignore_index=True)\n",
    "\n",
    "shuttle.crs = \"EPSG:4326\"\n",
    "\n",
    "shuttle.drop(columns=['styleUrl'], inplace=True)\n",
    "\n",
    "shuttle.to_file(\"uchi_shuttle_lines.geojson\", driver='GeoJSON')\n",
    "\n",
    "\n"
   ]
  }
 ],
 "metadata": {
  "kernelspec": {
   "display_name": "base",
   "language": "python",
   "name": "python3"
  },
  "language_info": {
   "codemirror_mode": {
    "name": "ipython",
    "version": 3
   },
   "file_extension": ".py",
   "mimetype": "text/x-python",
   "name": "python",
   "nbconvert_exporter": "python",
   "pygments_lexer": "ipython3",
   "version": "3.10.9"
  }
 },
 "nbformat": 4,
 "nbformat_minor": 2
}

{
 "cells": [
  {
   "cell_type": "code",
   "execution_count": 2,
   "metadata": {},
   "outputs": [],
   "source": [
    "import pandas as pd"
   ]
  },
  {
   "cell_type": "code",
   "execution_count": 3,
   "metadata": {},
   "outputs": [],
   "source": [
    "df = pd.read_csv(\"raw_data/states_regions_divisions.csv\")"
   ]
  },
  {
   "cell_type": "code",
   "execution_count": 4,
   "metadata": {},
   "outputs": [
    {
     "data": {
      "text/plain": [
       "Division\n",
       "East North Central    5\n",
       "East South Central    4\n",
       "Middle Atlantic       3\n",
       "Mountain              8\n",
       "New England           6\n",
       "Pacific               5\n",
       "South Atlantic        9\n",
       "West North Central    7\n",
       "West South Central    4\n",
       "Name: State, dtype: int64"
      ]
     },
     "execution_count": 4,
     "metadata": {},
     "output_type": "execute_result"
    }
   ],
   "source": [
    "\n",
    "df.groupby(\"Division\")[\"State\"].count()"
   ]
  },
  {
   "cell_type": "code",
   "execution_count": 19,
   "metadata": {},
   "outputs": [
    {
     "data": {
      "text/plain": [
       "[None,\n",
       " None,\n",
       " None,\n",
       " None,\n",
       " None,\n",
       " None,\n",
       " None,\n",
       " None,\n",
       " None,\n",
       " None,\n",
       " None,\n",
       " None,\n",
       " None,\n",
       " None,\n",
       " None,\n",
       " None,\n",
       " None,\n",
       " None,\n",
       " None,\n",
       " None,\n",
       " None,\n",
       " None,\n",
       " None,\n",
       " None,\n",
       " None,\n",
       " None,\n",
       " None,\n",
       " None,\n",
       " None,\n",
       " None,\n",
       " None,\n",
       " None,\n",
       " None,\n",
       " None,\n",
       " None,\n",
       " None,\n",
       " None,\n",
       " None,\n",
       " None,\n",
       " None,\n",
       " None,\n",
       " None,\n",
       " None,\n",
       " None,\n",
       " None,\n",
       " None,\n",
       " None,\n",
       " None,\n",
       " None,\n",
       " None,\n",
       " None]"
      ]
     },
     "execution_count": 19,
     "metadata": {},
     "output_type": "execute_result"
    }
   ],
   "source": [
    "region_dict = {\n",
    "    \"Midwest\": 36,\n",
    "    \"Northeast\": 35,\n",
    "    \"West\": 13,\n",
    "    \"South\": 9,\n",
    "    \"International\": 7,\n",
    "}\n",
    "\n",
    "data_json = []\n",
    "\n",
    "def turn_to_json(state,region, region_dict):\n",
    "    row = {\"region\":region, \"state_code\": state, \"value\":region_dict[region]}\n",
    "    data_json.append(row)\n",
    "\n",
    "[turn_to_json(row[1],row[2], region_dict) for row in df.to_numpy()]\n"
   ]
  },
  {
   "cell_type": "code",
   "execution_count": 20,
   "metadata": {},
   "outputs": [
    {
     "data": {
      "text/plain": [
       "[{'region': 'West', 'state_code': 'AK', 'value': 13},\n",
       " {'region': 'South', 'state_code': 'AL', 'value': 9},\n",
       " {'region': 'South', 'state_code': 'AR', 'value': 9},\n",
       " {'region': 'West', 'state_code': 'AZ', 'value': 13},\n",
       " {'region': 'West', 'state_code': 'CA', 'value': 13},\n",
       " {'region': 'West', 'state_code': 'CO', 'value': 13},\n",
       " {'region': 'Northeast', 'state_code': 'CT', 'value': 35},\n",
       " {'region': 'South', 'state_code': 'DC', 'value': 9},\n",
       " {'region': 'South', 'state_code': 'DE', 'value': 9},\n",
       " {'region': 'South', 'state_code': 'FL', 'value': 9},\n",
       " {'region': 'South', 'state_code': 'GA', 'value': 9},\n",
       " {'region': 'West', 'state_code': 'HI', 'value': 13},\n",
       " {'region': 'Midwest', 'state_code': 'IA', 'value': 36},\n",
       " {'region': 'West', 'state_code': 'ID', 'value': 13},\n",
       " {'region': 'Midwest', 'state_code': 'IL', 'value': 36},\n",
       " {'region': 'Midwest', 'state_code': 'IN', 'value': 36},\n",
       " {'region': 'Midwest', 'state_code': 'KS', 'value': 36},\n",
       " {'region': 'South', 'state_code': 'KY', 'value': 9},\n",
       " {'region': 'South', 'state_code': 'LA', 'value': 9},\n",
       " {'region': 'Northeast', 'state_code': 'MA', 'value': 35},\n",
       " {'region': 'South', 'state_code': 'MD', 'value': 9},\n",
       " {'region': 'Northeast', 'state_code': 'ME', 'value': 35},\n",
       " {'region': 'Midwest', 'state_code': 'MI', 'value': 36},\n",
       " {'region': 'Midwest', 'state_code': 'MN', 'value': 36},\n",
       " {'region': 'Midwest', 'state_code': 'MO', 'value': 36},\n",
       " {'region': 'South', 'state_code': 'MS', 'value': 9},\n",
       " {'region': 'West', 'state_code': 'MT', 'value': 13},\n",
       " {'region': 'South', 'state_code': 'NC', 'value': 9},\n",
       " {'region': 'Midwest', 'state_code': 'ND', 'value': 36},\n",
       " {'region': 'Midwest', 'state_code': 'NE', 'value': 36},\n",
       " {'region': 'Northeast', 'state_code': 'NH', 'value': 35},\n",
       " {'region': 'Northeast', 'state_code': 'NJ', 'value': 35},\n",
       " {'region': 'West', 'state_code': 'NM', 'value': 13},\n",
       " {'region': 'West', 'state_code': 'NV', 'value': 13},\n",
       " {'region': 'Northeast', 'state_code': 'NY', 'value': 35},\n",
       " {'region': 'Midwest', 'state_code': 'OH', 'value': 36},\n",
       " {'region': 'South', 'state_code': 'OK', 'value': 9},\n",
       " {'region': 'West', 'state_code': 'OR', 'value': 13},\n",
       " {'region': 'Northeast', 'state_code': 'PA', 'value': 35},\n",
       " {'region': 'Northeast', 'state_code': 'RI', 'value': 35},\n",
       " {'region': 'South', 'state_code': 'SC', 'value': 9},\n",
       " {'region': 'Midwest', 'state_code': 'SD', 'value': 36},\n",
       " {'region': 'South', 'state_code': 'TN', 'value': 9},\n",
       " {'region': 'South', 'state_code': 'TX', 'value': 9},\n",
       " {'region': 'West', 'state_code': 'UT', 'value': 13},\n",
       " {'region': 'South', 'state_code': 'VA', 'value': 9},\n",
       " {'region': 'Northeast', 'state_code': 'VT', 'value': 35},\n",
       " {'region': 'West', 'state_code': 'WA', 'value': 13},\n",
       " {'region': 'Midwest', 'state_code': 'WI', 'value': 36},\n",
       " {'region': 'South', 'state_code': 'WV', 'value': 9},\n",
       " {'region': 'West', 'state_code': 'WY', 'value': 13}]"
      ]
     },
     "execution_count": 20,
     "metadata": {},
     "output_type": "execute_result"
    }
   ],
   "source": [
    "data_json"
   ]
  }
 ],
 "metadata": {
  "kernelspec": {
   "display_name": "base",
   "language": "python",
   "name": "python3"
  },
  "language_info": {
   "codemirror_mode": {
    "name": "ipython",
    "version": 3
   },
   "file_extension": ".py",
   "mimetype": "text/x-python",
   "name": "python",
   "nbconvert_exporter": "python",
   "pygments_lexer": "ipython3",
   "version": "3.10.9"
  }
 },
 "nbformat": 4,
 "nbformat_minor": 2
}

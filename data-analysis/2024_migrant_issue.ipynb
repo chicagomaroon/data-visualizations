{
 "cells": [
  {
   "cell_type": "code",
   "execution_count": null,
   "metadata": {},
   "outputs": [],
   "source": [
    "import numpy as np\n",
    "import pandas as pd"
   ]
  },
  {
   "cell_type": "code",
   "execution_count": null,
   "metadata": {},
   "outputs": [],
   "source": [
    "staging = pd.read_csv(\"staging_counts_03.csv\")\n",
    "staging = pd.read_csv(\"shelter_counts_03.csv\")"
   ]
  },
  {
   "cell_type": "code",
   "execution_count": null,
   "metadata": {},
   "outputs": [],
   "source": [
    "staging_data = []\n",
    "for stage in staging[\"staging\"].unique():\n",
    "    data = staging[staging[\"stage\" == stage]]\n",
    "    dict = {}\n",
    "\n",
    "    dict[\"name\"] = stage\n",
    "    dict['data'] = data\n",
    "    "
   ]
  }
 ],
 "metadata": {
  "kernelspec": {
   "display_name": "base",
   "language": "python",
   "name": "python3"
  },
  "language_info": {
   "name": "python",
   "version": "3.10.9"
  }
 },
 "nbformat": 4,
 "nbformat_minor": 2
}

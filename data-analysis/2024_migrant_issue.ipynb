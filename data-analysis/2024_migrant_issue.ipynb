{
 "cells": [
  {
   "cell_type": "markdown",
   "metadata": {},
   "source": [
    "### Migrant Issue Charts\n",
    "\n",
    "Data is pulled from https://40thward.org/cirr/new-arrivals/new-arrivals-data-dashboard/\\\n",
    "\n",
    "Light cleaning and formatting in google sheets\\\n",
    "(https://docs.google.com/spreadsheets/d/1FP4BAEnFSG9EQac71K9rBzWqK3BBp9_HbFfXh57y2k0/edit#gid=548682538)\n",
    "\n",
    "\n",
    "---"
   ]
  },
  {
   "cell_type": "markdown",
   "metadata": {},
   "source": [
    "Data Work for Bar Charts"
   ]
  },
  {
   "cell_type": "code",
   "execution_count": 2,
   "metadata": {},
   "outputs": [],
   "source": [
    "import numpy as np\n",
    "import pandas as pd"
   ]
  },
  {
   "cell_type": "code",
   "execution_count": 41,
   "metadata": {},
   "outputs": [],
   "source": [
    "# read in data\n",
    "staging = pd.read_csv(\"raw_data/staging_03.csv\")\n",
    "shelter = pd.read_csv(\"raw_data/shelter_03.csv\")\n",
    "\n",
    "#cleaning\n",
    "staging['count'] = staging['count'].fillna(0)\n",
    "shelter['count'] = shelter['count'].fillna(0)\n",
    "shelter['date'] = pd.to_datetime(shelter['date'])"
   ]
  },
  {
   "cell_type": "code",
   "execution_count": 23,
   "metadata": {},
   "outputs": [],
   "source": [
    "#convert staging data to highchart js format\n",
    "staging_data = []\n",
    "for stage in staging[\"staging\"].unique():\n",
    "    data = staging[staging[\"staging\"] == stage]\n",
    "    dict = {}\n",
    "\n",
    "    dict[\"name\"] = stage\n",
    "    dict['data'] = list(data[\"count\"])\n",
    "    staging_data.append(dict)\n",
    "    "
   ]
  },
  {
   "cell_type": "code",
   "execution_count": 50,
   "metadata": {},
   "outputs": [],
   "source": [
    "#convert shelte  data to highchart js format\n",
    "\n",
    "#sum by area by day\n",
    "area_count = (\n",
    "        shelter.groupby(['date',\"area\"])\n",
    "        .agg({\"count\": \"sum\"}\n",
    "        )\n",
    "        .reset_index()\n",
    "    )\n",
    "area_count = area_count.sort_values(by=['date'])\n",
    "\n",
    "\n",
    "shelter_data = []\n",
    "for area in area_count[\"area\"].unique():\n",
    "    data = area_count[area_count[\"area\"] == area]\n",
    "    dict = {}\n",
    "\n",
    "    dict[\"name\"] = area\n",
    "    dict['data'] = list(data[\"count\"])\n",
    "    shelter_data.append(dict)"
   ]
  },
  {
   "cell_type": "code",
   "execution_count": null,
   "metadata": {},
   "outputs": [],
   "source": [
    "#exporting data\n",
    "\n",
    "# list(staging[\"date\"].unique())\n",
    "# staging_data\n",
    "\n",
    "#area_count[\"date\"].dt.strftime('%m-%d-%Y').unique()\n",
    "# shelter_data"
   ]
  },
  {
   "cell_type": "markdown",
   "metadata": {},
   "source": [
    "--- \n",
    "\n",
    "\n",
    "Data work for map "
   ]
  }
 ],
 "metadata": {
  "kernelspec": {
   "display_name": "base",
   "language": "python",
   "name": "python3"
  },
  "language_info": {
   "codemirror_mode": {
    "name": "ipython",
    "version": 3
   },
   "file_extension": ".py",
   "mimetype": "text/x-python",
   "name": "python",
   "nbconvert_exporter": "python",
   "pygments_lexer": "ipython3",
   "version": "3.10.9"
  }
 },
 "nbformat": 4,
 "nbformat_minor": 2
}

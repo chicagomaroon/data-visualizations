{
 "cells": [
  {
   "cell_type": "markdown",
   "metadata": {},
   "source": [
    "![The Chicago Maroon](https://chicagomaroon.com/wp-content/uploads/2022/03/Screen-Shot-2022-03-16-at-2.14.23-PM.png)\n",
    "\n",
    "---\n",
    "\n",
    "## Shuttle Headways & Passenger Loads Between January 1st and April 8th 2025"
   ]
  },
  {
   "cell_type": "code",
   "execution_count": 22,
   "metadata": {},
   "outputs": [],
   "source": [
    "from dotenv import load_dotenv\n",
    "load_dotenv(\"./.env\")\n",
    "import requests\n",
    "import os\n",
    "import pandas as pd\n",
    "import io\n",
    "from datetime import datetime, timezone"
   ]
  },
  {
   "cell_type": "code",
   "execution_count": 23,
   "metadata": {},
   "outputs": [],
   "source": [
    "API_KEY = os.getenv(\"API_KEY\")\n",
    "BASE_URL = \"https://uchicagoshuttles.com\"\n",
    "HEADERS = {\n",
    "        \"key\":API_KEY,\n",
    "        \"User-Agent\": \"curl\",\n",
    "    }"
   ]
  },
  {
   "cell_type": "code",
   "execution_count": 28,
   "metadata": {},
   "outputs": [],
   "source": [
    "import pytz\n",
    "from datetime import datetime\n",
    "\n",
    "# Helper functions getApiData() and utcToCentral() adapted from https://andreithuler.com/UChicagoShuttles/api/examples/visualizations.ipynb\n",
    "\n",
    "def getApiData(url, key):\n",
    "    \"\"\"\n",
    "    Makes the API request and returns a Pandas dataframe\n",
    "    \"\"\"\n",
    "    headers = {\n",
    "        \"key\":API_KEY,\n",
    "        \"User-Agent\": \"curl\",\n",
    "    }\n",
    "    \n",
    "    response = requests.request(\"GET\", BASE_URL+url, headers=headers)\n",
    "    if response.status_code == 200:\n",
    "        return(pd.read_csv(io.StringIO(response.text)))\n",
    "    else:\n",
    "        raise ValueError(f\"ERROR making the API request: {response.text}\")\n",
    "\n",
    "def utcToCentral(datetime_utc):\n",
    "    \"\"\"\n",
    "    Convert naive UTC datetime objects into naive US/Central datetime objects\n",
    "    \"\"\"\n",
    "    datetime_utc = pytz.utc.localize(datetime_utc)\n",
    "    datetime_central = datetime_utc.astimezone(pytz.timezone('US/Central'))\n",
    "    datetime_central = datetime_central.replace(tzinfo=None)\n",
    "    return datetime_central\n",
    "\n",
    "def utcCurrent():\n",
    "    \"\"\"\n",
    "    Return the current time in UTC.\n",
    "    \"\"\"\n",
    "    return datetime.now(timezone.utc).strftime(\"%Y-%m-%d %H:%M:%S\")\n",
    "\n",
    "def centralToUtc(datetime_central_str):\n",
    "    \"\"\"\n",
    "    Convert a Chicago (US/Central, naive) datetime string in the format \"YYYY-MM-DD HH:MM\"\n",
    "    to its naive UTC datetime string.\n",
    "    \"\"\"\n",
    "    \n",
    "    central = pytz.timezone('US/Central')\n",
    "    dt_naive = datetime.strptime(datetime_central_str, \"%Y-%m-%d %H:%M:%S\")\n",
    "    dt_central = central.localize(dt_naive)\n",
    "    dt_utc = dt_central.astimezone(pytz.utc)\n",
    "    return dt_utc.strftime(\"%Y-%m-%d %H:%M:%S\")"
   ]
  },
  {
   "cell_type": "code",
   "execution_count": 29,
   "metadata": {},
   "outputs": [],
   "source": [
    "url = f\"/api/getStops?start={centralToUtc('2025-01-01 00:00:00')}&end={utcCurrent()}\"\n",
    "df_allstops = getApiData(url, API_KEY)"
   ]
  },
  {
   "cell_type": "code",
   "execution_count": 34,
   "metadata": {},
   "outputs": [
    {
     "data": {
      "application/vnd.microsoft.datawrangler.viewer.v0+json": {
       "columns": [
        {
         "name": "index",
         "rawType": "int64",
         "type": "integer"
        },
        {
         "name": "id",
         "rawType": "int64",
         "type": "integer"
        },
        {
         "name": "routeName",
         "rawType": "object",
         "type": "string"
        },
        {
         "name": "stopName",
         "rawType": "object",
         "type": "string"
        },
        {
         "name": "passengerLoad",
         "rawType": "int64",
         "type": "integer"
        },
        {
         "name": "stopDurationSeconds",
         "rawType": "int64",
         "type": "integer"
        },
        {
         "name": "arrivalTime",
         "rawType": "datetime64[ns]",
         "type": "datetime"
        },
        {
         "name": "departureTime",
         "rawType": "object",
         "type": "string"
        },
        {
         "name": "stopId",
         "rawType": "int64",
         "type": "integer"
        },
        {
         "name": "routeId",
         "rawType": "int64",
         "type": "integer"
        },
        {
         "name": "busId",
         "rawType": "int64",
         "type": "integer"
        },
        {
         "name": "nextStopId",
         "rawType": "int64",
         "type": "integer"
        },
        {
         "name": "year",
         "rawType": "int32",
         "type": "integer"
        },
        {
         "name": "month",
         "rawType": "int32",
         "type": "integer"
        },
        {
         "name": "date",
         "rawType": "int32",
         "type": "integer"
        },
        {
         "name": "hour",
         "rawType": "int32",
         "type": "integer"
        },
        {
         "name": "dayOfWeek",
         "rawType": "int32",
         "type": "integer"
        }
       ],
       "conversionMethod": "pd.DataFrame",
       "ref": "5a363b67-5423-4ef7-bda4-d4685a989b12",
       "rows": [
        [
         "0",
         "619471",
         "Apostolic/Drexel",
         "Apostolic Lot",
         "0",
         "8",
         "2025-01-01 05:59:58",
         "2025-01-01 06:00:06",
         "8614",
         "38730",
         "4315",
         "133007",
         "2025",
         "1",
         "1",
         "5",
         "3"
        ],
        [
         "1",
         "619472",
         "North",
         "Reynolds Club",
         "0",
         "451",
         "2025-01-01 05:52:45",
         "2025-01-01 06:00:17",
         "8579",
         "38734",
         "4314",
         "8633",
         "2025",
         "1",
         "1",
         "5",
         "3"
        ],
        [
         "2",
         "619473",
         "Apostolic/Drexel",
         "Kenwood & 63rd",
         "0",
         "7",
         "2025-01-01 06:00:18",
         "2025-01-01 06:00:26",
         "133007",
         "38730",
         "4315",
         "8612",
         "2025",
         "1",
         "1",
         "6",
         "3"
        ],
        [
         "3",
         "619474",
         "Central",
         "Reynolds Club",
         "0",
         "454",
         "2025-01-01 05:52:56",
         "2025-01-01 06:00:31",
         "8579",
         "38737",
         "4317",
         "141882",
         "2025",
         "1",
         "1",
         "5",
         "3"
        ],
        [
         "4",
         "619475",
         "North",
         "Regenstein Library (N)",
         "0",
         "19",
         "2025-01-01 06:00:25",
         "2025-01-01 06:00:44",
         "8633",
         "38734",
         "4314",
         "8634",
         "2025",
         "1",
         "1",
         "6",
         "3"
        ]
       ],
       "shape": {
        "columns": 16,
        "rows": 5
       }
      },
      "text/html": [
       "<div>\n",
       "<style scoped>\n",
       "    .dataframe tbody tr th:only-of-type {\n",
       "        vertical-align: middle;\n",
       "    }\n",
       "\n",
       "    .dataframe tbody tr th {\n",
       "        vertical-align: top;\n",
       "    }\n",
       "\n",
       "    .dataframe thead th {\n",
       "        text-align: right;\n",
       "    }\n",
       "</style>\n",
       "<table border=\"1\" class=\"dataframe\">\n",
       "  <thead>\n",
       "    <tr style=\"text-align: right;\">\n",
       "      <th></th>\n",
       "      <th>id</th>\n",
       "      <th>routeName</th>\n",
       "      <th>stopName</th>\n",
       "      <th>passengerLoad</th>\n",
       "      <th>stopDurationSeconds</th>\n",
       "      <th>arrivalTime</th>\n",
       "      <th>departureTime</th>\n",
       "      <th>stopId</th>\n",
       "      <th>routeId</th>\n",
       "      <th>busId</th>\n",
       "      <th>nextStopId</th>\n",
       "      <th>year</th>\n",
       "      <th>month</th>\n",
       "      <th>date</th>\n",
       "      <th>hour</th>\n",
       "      <th>dayOfWeek</th>\n",
       "    </tr>\n",
       "  </thead>\n",
       "  <tbody>\n",
       "    <tr>\n",
       "      <th>0</th>\n",
       "      <td>619471</td>\n",
       "      <td>Apostolic/Drexel</td>\n",
       "      <td>Apostolic Lot</td>\n",
       "      <td>0</td>\n",
       "      <td>8</td>\n",
       "      <td>2025-01-01 05:59:58</td>\n",
       "      <td>2025-01-01 06:00:06</td>\n",
       "      <td>8614</td>\n",
       "      <td>38730</td>\n",
       "      <td>4315</td>\n",
       "      <td>133007</td>\n",
       "      <td>2025</td>\n",
       "      <td>1</td>\n",
       "      <td>1</td>\n",
       "      <td>5</td>\n",
       "      <td>3</td>\n",
       "    </tr>\n",
       "    <tr>\n",
       "      <th>1</th>\n",
       "      <td>619472</td>\n",
       "      <td>North</td>\n",
       "      <td>Reynolds Club</td>\n",
       "      <td>0</td>\n",
       "      <td>451</td>\n",
       "      <td>2025-01-01 05:52:45</td>\n",
       "      <td>2025-01-01 06:00:17</td>\n",
       "      <td>8579</td>\n",
       "      <td>38734</td>\n",
       "      <td>4314</td>\n",
       "      <td>8633</td>\n",
       "      <td>2025</td>\n",
       "      <td>1</td>\n",
       "      <td>1</td>\n",
       "      <td>5</td>\n",
       "      <td>3</td>\n",
       "    </tr>\n",
       "    <tr>\n",
       "      <th>2</th>\n",
       "      <td>619473</td>\n",
       "      <td>Apostolic/Drexel</td>\n",
       "      <td>Kenwood &amp; 63rd</td>\n",
       "      <td>0</td>\n",
       "      <td>7</td>\n",
       "      <td>2025-01-01 06:00:18</td>\n",
       "      <td>2025-01-01 06:00:26</td>\n",
       "      <td>133007</td>\n",
       "      <td>38730</td>\n",
       "      <td>4315</td>\n",
       "      <td>8612</td>\n",
       "      <td>2025</td>\n",
       "      <td>1</td>\n",
       "      <td>1</td>\n",
       "      <td>6</td>\n",
       "      <td>3</td>\n",
       "    </tr>\n",
       "    <tr>\n",
       "      <th>3</th>\n",
       "      <td>619474</td>\n",
       "      <td>Central</td>\n",
       "      <td>Reynolds Club</td>\n",
       "      <td>0</td>\n",
       "      <td>454</td>\n",
       "      <td>2025-01-01 05:52:56</td>\n",
       "      <td>2025-01-01 06:00:31</td>\n",
       "      <td>8579</td>\n",
       "      <td>38737</td>\n",
       "      <td>4317</td>\n",
       "      <td>141882</td>\n",
       "      <td>2025</td>\n",
       "      <td>1</td>\n",
       "      <td>1</td>\n",
       "      <td>5</td>\n",
       "      <td>3</td>\n",
       "    </tr>\n",
       "    <tr>\n",
       "      <th>4</th>\n",
       "      <td>619475</td>\n",
       "      <td>North</td>\n",
       "      <td>Regenstein Library (N)</td>\n",
       "      <td>0</td>\n",
       "      <td>19</td>\n",
       "      <td>2025-01-01 06:00:25</td>\n",
       "      <td>2025-01-01 06:00:44</td>\n",
       "      <td>8633</td>\n",
       "      <td>38734</td>\n",
       "      <td>4314</td>\n",
       "      <td>8634</td>\n",
       "      <td>2025</td>\n",
       "      <td>1</td>\n",
       "      <td>1</td>\n",
       "      <td>6</td>\n",
       "      <td>3</td>\n",
       "    </tr>\n",
       "  </tbody>\n",
       "</table>\n",
       "</div>"
      ],
      "text/plain": [
       "       id         routeName                stopName  passengerLoad  \\\n",
       "0  619471  Apostolic/Drexel           Apostolic Lot              0   \n",
       "1  619472             North           Reynolds Club              0   \n",
       "2  619473  Apostolic/Drexel          Kenwood & 63rd              0   \n",
       "3  619474           Central           Reynolds Club              0   \n",
       "4  619475             North  Regenstein Library (N)              0   \n",
       "\n",
       "   stopDurationSeconds         arrivalTime        departureTime  stopId  \\\n",
       "0                    8 2025-01-01 05:59:58  2025-01-01 06:00:06    8614   \n",
       "1                  451 2025-01-01 05:52:45  2025-01-01 06:00:17    8579   \n",
       "2                    7 2025-01-01 06:00:18  2025-01-01 06:00:26  133007   \n",
       "3                  454 2025-01-01 05:52:56  2025-01-01 06:00:31    8579   \n",
       "4                   19 2025-01-01 06:00:25  2025-01-01 06:00:44    8633   \n",
       "\n",
       "   routeId  busId  nextStopId  year  month  date  hour  dayOfWeek  \n",
       "0    38730   4315      133007  2025      1     1     5          3  \n",
       "1    38734   4314        8633  2025      1     1     5          3  \n",
       "2    38730   4315        8612  2025      1     1     6          3  \n",
       "3    38737   4317      141882  2025      1     1     5          3  \n",
       "4    38734   4314        8634  2025      1     1     6          3  "
      ]
     },
     "execution_count": 34,
     "metadata": {},
     "output_type": "execute_result"
    }
   ],
   "source": [
    "df_allstops['arrivalTime'] = pd.to_datetime(df_allstops['arrivalTime'])\n",
    "df_allstops['year'] = df_allstops['arrivalTime'].dt.year\n",
    "df_allstops['month'] = df_allstops['arrivalTime'].dt.month\n",
    "df_allstops['date'] = df_allstops['arrivalTime'].dt.day\n",
    "df_allstops['hour'] = df_allstops['arrivalTime'].dt.hour\n",
    "df_allstops['dayOfWeek'] = df_allstops['arrivalTime'].dt.dayofweek + 1 # (Monday -> 1)\n",
    "\n",
    "df_allstops.head()"
   ]
  },
  {
   "cell_type": "markdown",
   "metadata": {},
   "source": [
    "## Ridership by stop"
   ]
  },
  {
   "cell_type": "code",
   "execution_count": 37,
   "metadata": {},
   "outputs": [
    {
     "data": {
      "application/vnd.microsoft.datawrangler.viewer.v0+json": {
       "columns": [
        {
         "name": "index",
         "rawType": "int64",
         "type": "integer"
        },
        {
         "name": "stopId",
         "rawType": "int64",
         "type": "integer"
        },
        {
         "name": "stopName",
         "rawType": "object",
         "type": "string"
        },
        {
         "name": "dayOfWeek",
         "rawType": "int32",
         "type": "integer"
        },
        {
         "name": "passengerLoad",
         "rawType": "int64",
         "type": "integer"
        }
       ],
       "conversionMethod": "pd.DataFrame",
       "ref": "afe82e45-0edb-4e82-af54-a9f5b218519c",
       "rows": [
        [
         "0",
         "8578",
         "Regents Park Apartments",
         "1",
         "34"
        ],
        [
         "1",
         "8578",
         "Regents Park Apartments",
         "2",
         "39"
        ],
        [
         "2",
         "8578",
         "Regents Park Apartments",
         "3",
         "53"
        ],
        [
         "3",
         "8578",
         "Regents Park Apartments",
         "4",
         "60"
        ],
        [
         "4",
         "8578",
         "Regents Park Apartments",
         "5",
         "60"
        ],
        [
         "5",
         "8578",
         "Regents Park Apartments",
         "6",
         "40"
        ],
        [
         "6",
         "8578",
         "Regents Park Apartments",
         "7",
         "66"
        ],
        [
         "7",
         "8579",
         "Reynolds Club",
         "1",
         "222"
        ],
        [
         "8",
         "8579",
         "Reynolds Club",
         "2",
         "296"
        ],
        [
         "9",
         "8579",
         "Reynolds Club",
         "3",
         "357"
        ],
        [
         "10",
         "8579",
         "Reynolds Club",
         "4",
         "340"
        ],
        [
         "11",
         "8579",
         "Reynolds Club",
         "5",
         "299"
        ],
        [
         "12",
         "8579",
         "Reynolds Club",
         "6",
         "185"
        ],
        [
         "13",
         "8579",
         "Reynolds Club",
         "7",
         "157"
        ],
        [
         "14",
         "8584",
         "Keller Center WB",
         "1",
         "8"
        ],
        [
         "15",
         "8584",
         "Keller Center WB",
         "2",
         "29"
        ],
        [
         "16",
         "8584",
         "Keller Center WB",
         "3",
         "15"
        ],
        [
         "17",
         "8584",
         "Keller Center WB",
         "4",
         "15"
        ],
        [
         "18",
         "8584",
         "Keller Center WB",
         "5",
         "18"
        ],
        [
         "19",
         "8584",
         "Keller Center WB",
         "6",
         "11"
        ],
        [
         "20",
         "8584",
         "Keller Center WB",
         "7",
         "11"
        ],
        [
         "21",
         "8589",
         "Logan Center",
         "1",
         "65"
        ],
        [
         "22",
         "8589",
         "Logan Center",
         "2",
         "57"
        ],
        [
         "23",
         "8589",
         "Logan Center",
         "3",
         "46"
        ],
        [
         "24",
         "8589",
         "Logan Center",
         "4",
         "54"
        ],
        [
         "25",
         "8589",
         "Logan Center",
         "5",
         "66"
        ],
        [
         "26",
         "8589",
         "Logan Center",
         "6",
         "5"
        ],
        [
         "27",
         "8589",
         "Logan Center",
         "7",
         "0"
        ],
        [
         "28",
         "8591",
         "Rockefeller Chapel",
         "1",
         "507"
        ],
        [
         "29",
         "8591",
         "Rockefeller Chapel",
         "2",
         "575"
        ],
        [
         "30",
         "8591",
         "Rockefeller Chapel",
         "3",
         "381"
        ],
        [
         "31",
         "8591",
         "Rockefeller Chapel",
         "4",
         "531"
        ],
        [
         "32",
         "8591",
         "Rockefeller Chapel",
         "5",
         "776"
        ],
        [
         "33",
         "8591",
         "Rockefeller Chapel",
         "6",
         "6"
        ],
        [
         "34",
         "8594",
         "Press Building",
         "1",
         "57"
        ],
        [
         "35",
         "8594",
         "Press Building",
         "2",
         "82"
        ],
        [
         "36",
         "8594",
         "Press Building",
         "3",
         "66"
        ],
        [
         "37",
         "8594",
         "Press Building",
         "4",
         "97"
        ],
        [
         "38",
         "8594",
         "Press Building",
         "5",
         "54"
        ],
        [
         "39",
         "8594",
         "Press Building",
         "6",
         "0"
        ],
        [
         "40",
         "8595",
         "Ellis & 53rd St.",
         "1",
         "238"
        ],
        [
         "41",
         "8595",
         "Ellis & 53rd St.",
         "2",
         "338"
        ],
        [
         "42",
         "8595",
         "Ellis & 53rd St.",
         "3",
         "333"
        ],
        [
         "43",
         "8595",
         "Ellis & 53rd St.",
         "4",
         "222"
        ],
        [
         "44",
         "8595",
         "Ellis & 53rd St.",
         "5",
         "385"
        ],
        [
         "45",
         "8595",
         "Ellis & 53rd St.",
         "6",
         "0"
        ],
        [
         "46",
         "8596",
         "Harper Court (NE Corner)",
         "1",
         "141"
        ],
        [
         "47",
         "8596",
         "Harper Court (NE Corner)",
         "2",
         "228"
        ],
        [
         "48",
         "8596",
         "Harper Court (NE Corner)",
         "3",
         "204"
        ],
        [
         "49",
         "8596",
         "Harper Court (NE Corner)",
         "4",
         "153"
        ]
       ],
       "shape": {
        "columns": 4,
        "rows": 581
       }
      },
      "text/html": [
       "<div>\n",
       "<style scoped>\n",
       "    .dataframe tbody tr th:only-of-type {\n",
       "        vertical-align: middle;\n",
       "    }\n",
       "\n",
       "    .dataframe tbody tr th {\n",
       "        vertical-align: top;\n",
       "    }\n",
       "\n",
       "    .dataframe thead th {\n",
       "        text-align: right;\n",
       "    }\n",
       "</style>\n",
       "<table border=\"1\" class=\"dataframe\">\n",
       "  <thead>\n",
       "    <tr style=\"text-align: right;\">\n",
       "      <th></th>\n",
       "      <th>stopId</th>\n",
       "      <th>stopName</th>\n",
       "      <th>dayOfWeek</th>\n",
       "      <th>passengerLoad</th>\n",
       "    </tr>\n",
       "  </thead>\n",
       "  <tbody>\n",
       "    <tr>\n",
       "      <th>0</th>\n",
       "      <td>8578</td>\n",
       "      <td>Regents Park Apartments</td>\n",
       "      <td>1</td>\n",
       "      <td>34</td>\n",
       "    </tr>\n",
       "    <tr>\n",
       "      <th>1</th>\n",
       "      <td>8578</td>\n",
       "      <td>Regents Park Apartments</td>\n",
       "      <td>2</td>\n",
       "      <td>39</td>\n",
       "    </tr>\n",
       "    <tr>\n",
       "      <th>2</th>\n",
       "      <td>8578</td>\n",
       "      <td>Regents Park Apartments</td>\n",
       "      <td>3</td>\n",
       "      <td>53</td>\n",
       "    </tr>\n",
       "    <tr>\n",
       "      <th>3</th>\n",
       "      <td>8578</td>\n",
       "      <td>Regents Park Apartments</td>\n",
       "      <td>4</td>\n",
       "      <td>60</td>\n",
       "    </tr>\n",
       "    <tr>\n",
       "      <th>4</th>\n",
       "      <td>8578</td>\n",
       "      <td>Regents Park Apartments</td>\n",
       "      <td>5</td>\n",
       "      <td>60</td>\n",
       "    </tr>\n",
       "    <tr>\n",
       "      <th>...</th>\n",
       "      <td>...</td>\n",
       "      <td>...</td>\n",
       "      <td>...</td>\n",
       "      <td>...</td>\n",
       "    </tr>\n",
       "    <tr>\n",
       "      <th>576</th>\n",
       "      <td>161849</td>\n",
       "      <td>Woodlawn Ave &amp; 61st St</td>\n",
       "      <td>3</td>\n",
       "      <td>5</td>\n",
       "    </tr>\n",
       "    <tr>\n",
       "      <th>577</th>\n",
       "      <td>161849</td>\n",
       "      <td>Woodlawn Ave &amp; 61st St</td>\n",
       "      <td>4</td>\n",
       "      <td>11</td>\n",
       "    </tr>\n",
       "    <tr>\n",
       "      <th>578</th>\n",
       "      <td>161849</td>\n",
       "      <td>Woodlawn Ave &amp; 61st St</td>\n",
       "      <td>5</td>\n",
       "      <td>5</td>\n",
       "    </tr>\n",
       "    <tr>\n",
       "      <th>579</th>\n",
       "      <td>161849</td>\n",
       "      <td>Woodlawn Ave &amp; 61st St</td>\n",
       "      <td>6</td>\n",
       "      <td>4</td>\n",
       "    </tr>\n",
       "    <tr>\n",
       "      <th>580</th>\n",
       "      <td>161849</td>\n",
       "      <td>Woodlawn Ave &amp; 61st St</td>\n",
       "      <td>7</td>\n",
       "      <td>8</td>\n",
       "    </tr>\n",
       "  </tbody>\n",
       "</table>\n",
       "<p>581 rows × 4 columns</p>\n",
       "</div>"
      ],
      "text/plain": [
       "     stopId                 stopName  dayOfWeek  passengerLoad\n",
       "0      8578  Regents Park Apartments          1             34\n",
       "1      8578  Regents Park Apartments          2             39\n",
       "2      8578  Regents Park Apartments          3             53\n",
       "3      8578  Regents Park Apartments          4             60\n",
       "4      8578  Regents Park Apartments          5             60\n",
       "..      ...                      ...        ...            ...\n",
       "576  161849   Woodlawn Ave & 61st St          3              5\n",
       "577  161849   Woodlawn Ave & 61st St          4             11\n",
       "578  161849   Woodlawn Ave & 61st St          5              5\n",
       "579  161849   Woodlawn Ave & 61st St          6              4\n",
       "580  161849   Woodlawn Ave & 61st St          7              8\n",
       "\n",
       "[581 rows x 4 columns]"
      ]
     },
     "execution_count": 37,
     "metadata": {},
     "output_type": "execute_result"
    }
   ],
   "source": [
    "# Partially adapted from https://andreithuler.com/UChicagoShuttles/api/examples/visualizations.ipynb\n",
    "\n",
    "df_total_ridership_per_route = df_allstops.groupby([\"stopId\", \"stopName\", \"dayOfWeek\"])[[\"passengerLoad\"]].sum().reset_index()\n",
    "df_total_ridership_per_route[\"passengerLoad\"] = df_total_ridership_per_route[\"passengerLoad\"].astype(int)\n",
    "df_total_ridership_per_route.drop_duplicates(inplace = True)\n",
    "\n",
    "df_total_ridership_per_route"
   ]
  },
  {
   "cell_type": "code",
   "execution_count": null,
   "metadata": {},
   "outputs": [],
   "source": []
  }
 ],
 "metadata": {
  "kernelspec": {
   "display_name": "Python 3",
   "language": "python",
   "name": "python3"
  },
  "language_info": {
   "codemirror_mode": {
    "name": "ipython",
    "version": 3
   },
   "file_extension": ".py",
   "mimetype": "text/x-python",
   "name": "python",
   "nbconvert_exporter": "python",
   "pygments_lexer": "ipython3",
   "version": "3.11.4"
  }
 },
 "nbformat": 4,
 "nbformat_minor": 2
}

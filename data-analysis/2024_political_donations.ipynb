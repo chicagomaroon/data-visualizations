{
  "cells": [
    {
      "cell_type": "code",
      "execution_count": 1,
      "metadata": {
        "collapsed": false
      },
      "outputs": [
        {
          "data": {
            "text/plain": [
              "'\\nGet data from https://www.fec.gov/data/receipts/individual-contributions/?two_year_transaction_period=2024&min_date=01%2F01%2F2023&max_date=12%2F31%2F2024\\nFilter by employer is \"uchicago\" or \"university of chicago\" (appears to do some fuzzy matching)\\nTook contrib from 15-16, 17-18, 19-20, 21-22, and 23-24 cycle\\nlast pull on Feb 1, 2024\\n\\n'"
            ]
          },
          "execution_count": 1,
          "metadata": {},
          "output_type": "execute_result"
        }
      ],
      "source": [
        "import numpy as np\n",
        "import pandas as pd\n",
        "from plotnine import aes, geom_col, geom_line, geom_point, ggplot\n",
        "\n",
        "\"\"\"\n",
        "Get data from https://www.fec.gov/data/receipts/individual-contributions/?two_year_transaction_period=2024&min_date=01%2F01%2F2023&max_date=12%2F31%2F2024\n",
        "Filter by employer is \"uchicago\" or \"university of chicago\" (appears to do some fuzzy matching)\n",
        "Took contrib from 15-16, 17-18, 19-20, 21-22, and 23-24 cycle\n",
        "last pull on Feb 1, 2024\n",
        "\n",
        "\"\"\""
      ]
    },
    {
      "cell_type": "code",
      "execution_count": 2,
      "metadata": {
        "collapsed": false
      },
      "outputs": [],
      "source": [
        "# CONSTANTS\n",
        "COL_NAMES = [\n",
        "    \"committee_id\",\n",
        "    \"committee_name\",\n",
        "    \"report_year\",\n",
        "    \"transaction_id\",\n",
        "    \"contributor_name\",\n",
        "    \"contributor_first_name\",\n",
        "    \"contributor_middle_name\",\n",
        "    \"contributor_last_name\",\n",
        "    \"contributor_city\",\n",
        "    \"contributor_zip\",\n",
        "    \"contributor_employer\",\n",
        "    \"contributor_occupation\",\n",
        "    \"contribution_receipt_date\",\n",
        "    \"contribution_receipt_amount\",\n",
        "    \"receipt_type_desc\",\n",
        "    \"election_type\",\n",
        "    \"two_year_transaction_period\",\n",
        "]"
      ]
    },
    {
      "cell_type": "code",
      "execution_count": 3,
      "metadata": {
        "collapsed": false
      },
      "outputs": [],
      "source": [
        "def import_and_clean_donations(file):\n",
        "    \"\"\"\n",
        "    Data cleaning for an individual contributions csv file from FEC\n",
        "\n",
        "    Args: file(.csv): CSV file of donations from\n",
        "                      www.fec.gov/data/receipts/individual-contributions\n",
        "\n",
        "    Returns: clean pandas DataFrame\n",
        "    \"\"\"\n",
        "\n",
        "    df = pd.read_csv(file, low_memory=False)\n",
        "\n",
        "    # truncate table, filter down to uchicago and professors\n",
        "    df_trunc = df[COL_NAMES]\n",
        "\n",
        "    employer_filter = \"ILLINOIS|LOYOLA| IL |ILINOIS|STATE|ILLNOIS|IL,|IL-|\\\n",
        "                  ILNOIS|LLLINOIS|ILLIONIS|ILLINIOS|LAB SCHOO|LABORATORY SCHOO\"\n",
        "    df1 = df_trunc[~df_trunc.contributor_employer.str.contains(employer_filter)]\n",
        "\n",
        "    occupation_filter = \"PROF|TEACHER|LECTURER|EDUCATOR\"\n",
        "    occupation_filter2 = \"PROFESSIONAL\"\n",
        "\n",
        "    df1 = df1[df1.contributor_occupation.str.match(occupation_filter, na=False)]\n",
        "    df1 = df1[~df1.contributor_occupation.str.match(occupation_filter2, na=False)]\n",
        "\n",
        "    # convert to datetime\n",
        "\n",
        "    df1[\"date_clean\"] = pd.to_datetime(df_trunc[\"contribution_receipt_date\"])\n",
        "    df1[\"year\"] = df1[\"date_clean\"].dt.year\n",
        "    df1[\"month\"] = df1[\"date_clean\"].dt.month\n",
        "\n",
        "    # combine BFP and BVF\n",
        "    mask = df1[\"committee_name\"].isin([\"BIDEN FOR PRESIDENT\", \"BIDEN VICTORY FUND\"])\n",
        "    df1[\"committee_name\"] = np.where(\n",
        "        mask, \"BIDEN FOR PRESIDENT/BIDEN VICTORY FUND\", df1[\"committee_name\"]\n",
        "    )\n",
        "\n",
        "    # add in PAC political leanings\n",
        "    # spreadsheet is here:\n",
        "    # https://docs.google.com/spreadsheets/d/1hvFXe1kRBVdUSjRFkGjoLqkUXC3N49Bh4_N1_hVqfKg/edit#gid=899646531\n",
        "    df1[\"committee_name\"] = df1[\"committee_name\"].str.strip()\n",
        "\n",
        "    pac_lean = pd.read_csv(\"raw_data/2024_political_donations_pac_lean.csv\")\n",
        "    pac_lean[\"committee_name\"] = pac_lean[\"committee_name\"].str.strip()\n",
        "    clean_pac_fec = df1.join(\n",
        "        pac_lean.set_index(\"committee_name\"), on=\"committee_name\", how=\"left\"\n",
        "    )\n",
        "\n",
        "    # add real dollars using cpi for each contrib\n",
        "    # spreadsheet is here:\n",
        "    # https://docs.google.com/spreadsheets/d/1kkerChNNxOL3pRGEsFynXL1T1mVyNRRCCPlNF20WmOw/edit#gid=990329749\n",
        "    cpi_df = pd.read_csv(\"raw_data/2024_political_donations_cpi_15_23.csv\")\n",
        "    filter = (cpi_df[\"month\"] == 10) & (cpi_df[\"year\"] == 2023)\n",
        "    cpi_current = float(cpi_df[filter][\"cpi\"])\n",
        "    cpi_df[\"conversion\"] = cpi_current / cpi_df[\"cpi\"]\n",
        "    cpi_df.drop(\"cpi\", axis=1, inplace=True)\n",
        "\n",
        "    clean_pac_fec = pd.merge(clean_pac_fec, cpi_df, on=[\"month\", \"year\"], how=\"left\")\n",
        "    clean_pac_fec[\"real_donation\"] = (\n",
        "        clean_pac_fec[\"contribution_receipt_amount\"] * clean_pac_fec[\"conversion\"]\n",
        "    )\n",
        "    clean_pac_fec.drop(\"conversion\", axis=1, inplace=True)\n",
        "\n",
        "    return clean_pac_fec"
      ]
    },
    {
      "cell_type": "code",
      "execution_count": null,
      "metadata": {
        "collapsed": false
      },
      "outputs": [],
      "source": [
        "def create_lookup_table(df):\n",
        "    \"\"\"\n",
        "    create person, committee, year lookup table\n",
        "\n",
        "    args:\n",
        "        df (pandas DataFrame): tables cleaned table from import_and_clean_donations()\n",
        "\n",
        "    Return: transformed pandas DataFrame\n",
        "\n",
        "    example use cases\n",
        "    # Biggest R donors\n",
        "    df[df.simple_lean == 'R'].groupby('contributor_name')['contribution_sum'].sum().nlargest(10)\n",
        "    # person lookup for all donations\n",
        "    df[df.contributor_name.str.contains(NAME)]\n",
        "    \"\"\"\n",
        "\n",
        "    # fill 'na's\n",
        "    df[\"contributor_employer\"] = (\n",
        "        df[\"contributor_employer\"].astype(\"string\").fillna(\"NA\")\n",
        "    )\n",
        "    df[\"contributor_occupation\"] = (\n",
        "        df[\"contributor_occupation\"].astype(\"string\").fillna(\"NA\")\n",
        "    )\n",
        "\n",
        "    # row for each\n",
        "    person_comm_year = (\n",
        "        df.groupby(\n",
        "            [\n",
        "                \"contributor_name\",\n",
        "                \"committee_name\",\n",
        "                \"two_year_transaction_period\",\n",
        "                \"simple_lean\",\n",
        "            ]\n",
        "        )\n",
        "        .agg(\n",
        "            {\n",
        "                \"contributor_employer\": lambda x: \", \".join(x.unique()),\n",
        "                \"contributor_occupation\": lambda x: \", \".join(x.unique()),\n",
        "                \"contribution_receipt_amount\": [\"sum\", \"median\", \"count\"],\n",
        "            }\n",
        "        )\n",
        "        .reset_index()\n",
        "    )\n",
        "\n",
        "    # get rid of hierarchical column index\n",
        "    person_comm_year.columns = [\n",
        "        \"\".join(col).strip() for col in person_comm_year.columns.values\n",
        "    ]\n",
        "    person_comm_year.columns = [\n",
        "        \"contributor_name\",\n",
        "        \"committee_name\",\n",
        "        \"two_year_transaction_period\",\n",
        "        \"simple_lean\",\n",
        "        \"contributor_employer\",\n",
        "        \"contributor_occupation\",\n",
        "        \"contribution_sum\",\n",
        "        \"contribution_median\",\n",
        "        \"contribution_count\",\n",
        "    ]\n",
        "\n",
        "    return person_comm_year"
      ]
    },
    {
      "cell_type": "code",
      "execution_count": 4,
      "metadata": {
        "collapsed": false
      },
      "outputs": [],
      "source": [
        "def donations_by_year_lean(df, period):\n",
        "    \"\"\"\n",
        "    creates df of sum donations by year and lean for chart\n",
        "\n",
        "    args:\n",
        "        df (pandas DataFrame): tables cleaned table from import_and_clean_donations()\n",
        "\n",
        "    Return: transformed pandas DataFrame\n",
        "    \"\"\"\n",
        "    if period == \"together\":\n",
        "        df = df.groupby(\"simple_lean\")[\"real_donation\"].sum().reset_index()\n",
        "    elif period == \"by_year\":\n",
        "        df = (\n",
        "            df.groupby([\"two_year_transaction_period\", \"simple_lean\"])[\"real_donation\"]\n",
        "            .sum()\n",
        "            .reset_index()\n",
        "        )\n",
        "        df.columns = [\"two_year_transaction_period\", \"simple_lean\", \"contribution_sum\"]\n",
        "\n",
        "    return df"
      ]
    },
    {
      "cell_type": "code",
      "execution_count": null,
      "metadata": {
        "collapsed": false
      },
      "outputs": [],
      "source": [
        "def donations_by_month(df):\n",
        "    \"\"\"\n",
        "    creates of sum donations by month for chart\n",
        "\n",
        "    args:\n",
        "        df (pandas DataFrame): tables cleaned table from import_and_clean_donations()\n",
        "\n",
        "    Return: transformed pandas DataFrame\n",
        "    \"\"\"\n",
        "\n",
        "    df_by_month = df.groupby([\"year\", \"month\"])[\"real_donation\"].sum().reset_index()\n",
        "    df_by_month[\"date\"] = pd.to_datetime(\n",
        "        df_by_month.year.astype(str) + \"-\" + df_by_month.month.astype(str) + \"-\" + \"1\"\n",
        "    )\n",
        "\n",
        "    return df_by_month"
      ]
    },
    {
      "cell_type": "code",
      "execution_count": 43,
      "metadata": {
        "collapsed": false
      },
      "outputs": [],
      "source": [
        "def compare_2020_2024(df):\n",
        "    \"\"\"\n",
        "    creates df to compare 2020 to date to 2024 up to the calendar year before election\n",
        "\n",
        "    args:\n",
        "        df (pandas DataFrame): tables cleaned table from import_and_clean_donations()\n",
        "\n",
        "    Return: transformed pandas DataFrame\n",
        "    \"\"\"\n",
        "\n",
        "    col_trunc = [\n",
        "        \"date_clean\",\n",
        "        \"month\",\n",
        "        \"year\",\n",
        "        \"real_donation\",\n",
        "        \"two_year_transaction_period\",\n",
        "    ]\n",
        "    date_filter = df[\"two_year_transaction_period\"].isin([2020, 2024])\n",
        "\n",
        "    df = df[col_trunc]\n",
        "    df = df[date_filter]\n",
        "\n",
        "    # create date array of all days\n",
        "    date_array = pd.DataFrame(\n",
        "        pd.date_range(start=\"2018-10-12\", end=\"2023-12-31\"), columns=[\"date_clean\"]\n",
        "    )\n",
        "    df = date_array.join(df.set_index(\"date_clean\"), on=\"date_clean\")\n",
        "\n",
        "    mask = df[\"date_clean\"] < \"2022-09-22\"\n",
        "    df[\"two_year_transaction_period\"] = np.where(mask, 2020, 2024)\n",
        "    df[\"real_donation\"] = df[\"real_donation\"].fillna(0)\n",
        "    df[\"year\"] = df[\"date_clean\"].dt.year\n",
        "\n",
        "    # create cumsum for each election\n",
        "    df = (\n",
        "        df.groupby(\"date_clean\")\n",
        "        .agg(\n",
        "            {\n",
        "                \"two_year_transaction_period\": lambda x: max(x),\n",
        "                \"year\": lambda x: max(x),\n",
        "                \"real_donation\": \"sum\",\n",
        "            }\n",
        "        )\n",
        "        .reset_index()\n",
        "    )\n",
        "\n",
        "    df = df.sort_values(by=[\"date_clean\"]).reset_index(drop=True)\n",
        "\n",
        "    df[\"cumsum\"] = df.groupby(\"two_year_transaction_period\")[\"real_donation\"].cumsum()\n",
        "\n",
        "    # cut off 2020  <= 2019 and 2024 <= 2023\n",
        "    filter1 = df[\"two_year_transaction_period\"] == 2020\n",
        "    filter2 = df[\"year\"] <= 2019\n",
        "    filter3 = df[\"two_year_transaction_period\"] == 2024\n",
        "    filter4 = df[\"year\"] <= 2023\n",
        "\n",
        "    df = df[(filter1 & filter2) | (filter3 & filter4)]\n",
        "\n",
        "    return df"
      ]
    },
    {
      "cell_type": "code",
      "execution_count": null,
      "metadata": {
        "collapsed": false
      },
      "outputs": [],
      "source": [
        "def cumulative_by_cycle(df) -> pd.DataFrame:\n",
        "    \"\"\"\n",
        "    creates df to compare 2020 to date to 2024\n",
        "\n",
        "    args:\n",
        "        df (pandas DataFrame): tables cleaned table from import_and_clean_donations()\n",
        "\n",
        "    Return: transformed pandas DataFrame\n",
        "    \"\"\"\n",
        "\n",
        "    col_trunc = [\n",
        "        \"contribution_receipt_date\",\n",
        "        \"date_clean\",\n",
        "        \"month\",\n",
        "        \"year\",\n",
        "        \"real_donation\",\n",
        "        \"two_year_transaction_period\",\n",
        "    ]\n",
        "\n",
        "    df = df[col_trunc]\n",
        "\n",
        "    df[\"two_year_transaction_period\"] = df[\"two_year_transaction_period\"].astype(int)\n",
        "\n",
        "    years = list(df[\"two_year_transaction_period\"].unique())\n",
        "\n",
        "    full_df = pd.DataFrame()\n",
        "\n",
        "    for year in years:\n",
        "        new_df = df[df[\"two_year_transaction_period\"] == year]\n",
        "\n",
        "        min_date = new_df[\"contribution_receipt_date\"].min().split()[0]\n",
        "        max_date = new_df[\"contribution_receipt_date\"].max().split()[0]\n",
        "        date_array = pd.DataFrame(\n",
        "            pd.date_range(start=min_date, end=max_date), columns=[\"date_clean\"]\n",
        "        )\n",
        "        new_df = date_array.join(\n",
        "            new_df.set_index(\"date_clean\"), on=\"date_clean\"\n",
        "        ).reset_index()\n",
        "\n",
        "        new_df[\"two_year_transaction_period\"] = new_df[\n",
        "            \"two_year_transaction_period\"\n",
        "        ].fillna(year)\n",
        "        new_df[\"real_donation\"] = new_df[\"real_donation\"].fillna(0)\n",
        "\n",
        "        # create cumulative sum for each election\n",
        "        new_df = (\n",
        "            new_df.groupby(\"date_clean\")\n",
        "            .agg(\n",
        "                {\n",
        "                    \"two_year_transaction_period\": lambda x: max(x),\n",
        "                    \"real_donation\": \"sum\",\n",
        "                }\n",
        "            )\n",
        "            .reset_index()\n",
        "        )\n",
        "\n",
        "        new_df = new_df.sort_values(by=[\"date_clean\"]).reset_index(drop=True)\n",
        "        new_df[\"cumsum\"] = new_df.groupby(\"two_year_transaction_period\")[\n",
        "            \"real_donation\"\n",
        "        ].cumsum()\n",
        "\n",
        "        if full_df.size == 0:\n",
        "            full_df = new_df\n",
        "        else:\n",
        "            full_df = pd.concat([full_df, new_df])\n",
        "\n",
        "    return full_df.sort_values(by=[\"two_year_transaction_period\", \"date_clean\"])"
      ]
    },
    {
      "cell_type": "code",
      "execution_count": null,
      "metadata": {
        "collapsed": false
      },
      "outputs": [],
      "source": [
        "def top_pacs(df, cycle, lean, n=5):\n",
        "    \"\"\"\n",
        "    creates df to of the top pacs for a given year and\n",
        "\n",
        "    args:\n",
        "        df (pandas DataFrame): tables cleaned table from import_and_clean_donations()\n",
        "        cycle (int): year of selected election (2016, 2018, 2020, 2022, or 2024)\n",
        "        lean (string): \"R\" or \"D\" or \"all\"\n",
        "        n (int): number of pacs you want displayed per lean\n",
        "\n",
        "    Return: transformed pandas DataFrame\n",
        "    \"\"\"\n",
        "\n",
        "    if lean == \"all\":\n",
        "        filter = df.two_year_transaction_period == cycle\n",
        "    else:\n",
        "        filter = (df.two_year_transaction_period == cycle) & (df.simple_lean == lean)\n",
        "\n",
        "    pac_df = (\n",
        "        df[filter]\n",
        "        .groupby([\"committee_name\", \"two_year_transaction_period\", \"simple_lean\"])[\n",
        "            \"real_dollars\"\n",
        "        ]\n",
        "        .sum()\n",
        "        .nlargest(n)\n",
        "        .reset_index()\n",
        "    )\n",
        "\n",
        "    return pac_df"
      ]
    },
    {
      "cell_type": "code",
      "execution_count": 53,
      "metadata": {
        "collapsed": false
      },
      "outputs": [],
      "source": [
        "# create tables for charts\n",
        "\n",
        "clean_df = import_and_clean_donations(\n",
        "    \"raw_data/2024_political_donations_uchi_fec_15_23.csv\"\n",
        ")\n",
        "\n",
        "# cumulative_by_cycle_df = cumulative_by_cycle(clean_df)\n",
        "\n",
        "election_lean_df = donations_by_year_lean(clean_df, \"together\")\n",
        "\n",
        "#election_2020_2024 = compare_2020_2024(clean_df)\n",
        "\n",
        "#by_month_df = donations_by_month(clean_df)"
      ]
    },
    {
      "cell_type": "code",
      "execution_count": 20,
      "metadata": {},
      "outputs": [
        {
          "data": {
            "text/plain": [
              "'2023-12-31 00:00:00'"
            ]
          },
          "execution_count": 20,
          "metadata": {},
          "output_type": "execute_result"
        }
      ],
      "source": [
        "# qc checks\n",
        "# make sure all PACs have a lean\n",
        "#clean_df[clean_df[\"simple_lean\"].isna()]\n",
        "\n",
        "# make sure all donations have a real_donation\n",
        "#clean_df[clean_df[\"real_donation\"].isna()]\n",
        "\n",
        "#clean_df[\"contribution_receipt_date\"].max()"
      ]
    },
    {
      "cell_type": "code",
      "execution_count": 55,
      "metadata": {},
      "outputs": [
        {
          "data": {
            "text/html": [
              "<div>\n",
              "<style scoped>\n",
              "    .dataframe tbody tr th:only-of-type {\n",
              "        vertical-align: middle;\n",
              "    }\n",
              "\n",
              "    .dataframe tbody tr th {\n",
              "        vertical-align: top;\n",
              "    }\n",
              "\n",
              "    .dataframe thead th {\n",
              "        text-align: right;\n",
              "    }\n",
              "</style>\n",
              "<table border=\"1\" class=\"dataframe\">\n",
              "  <thead>\n",
              "    <tr style=\"text-align: right;\">\n",
              "      <th></th>\n",
              "      <th>simple_lean</th>\n",
              "      <th>real_donation</th>\n",
              "    </tr>\n",
              "  </thead>\n",
              "  <tbody>\n",
              "    <tr>\n",
              "      <th>0</th>\n",
              "      <td>D</td>\n",
              "      <td>2455821</td>\n",
              "    </tr>\n",
              "    <tr>\n",
              "      <th>1</th>\n",
              "      <td>R</td>\n",
              "      <td>74734</td>\n",
              "    </tr>\n",
              "    <tr>\n",
              "      <th>2</th>\n",
              "      <td>S</td>\n",
              "      <td>643</td>\n",
              "    </tr>\n",
              "  </tbody>\n",
              "</table>\n",
              "</div>"
            ],
            "text/plain": [
              "  simple_lean  real_donation\n",
              "0           D        2455821\n",
              "1           R          74734\n",
              "2           S            643"
            ]
          },
          "execution_count": 55,
          "metadata": {},
          "output_type": "execute_result"
        }
      ],
      "source": [
        "# suppress scientific notation\n",
        "pd.options.display.float_format = '{:.0f}'.format\n",
        "\n",
        "# by party\n",
        "donations_by_year_lean(clean_df, 'together')\n"
      ]
    },
    {
      "cell_type": "code",
      "execution_count": 58,
      "metadata": {},
      "outputs": [
        {
          "data": {
            "text/plain": [
              "0.9702208203388277"
            ]
          },
          "execution_count": 58,
          "metadata": {},
          "output_type": "execute_result"
        }
      ],
      "source": [
        "2455821/(2455821+74734+643)"
      ]
    },
    {
      "cell_type": "code",
      "execution_count": 47,
      "metadata": {},
      "outputs": [
        {
          "name": "stdout",
          "output_type": "stream",
          "text": [
            "672 days 00:00:00\n",
            "674 days 00:00:00\n"
          ]
        }
      ],
      "source": [
        "# compare 2024\n",
        "election_2020_2024 = compare_2020_2024(clean_df)\n",
        "filter2020a = election_2020_2024[\"two_year_transaction_period\"] == 2020\n",
        "filter2024a = election_2020_2024[\"two_year_transaction_period\"] == 2024\n",
        "filter2020b = election_2020_2024[\"year\"] >= 2019\n",
        "filter2024b = election_2020_2024[\"year\"] >= 2023\n",
        "\n",
        "election_2020_2024 = election_2020_2024[\n",
        "    (filter2020a & filter2020b) | (filter2024a & filter2024b)\n",
        "]\n",
        "\n",
        "filter2020 = election_2020_2024[\"two_year_transaction_period\"] == 2020\n",
        "election2020 = pd.Timestamp(\"2020-11-03\")\n",
        "# 672 days\n",
        "print(election2020 - min(election_2020_2024[filter2020][\"date_clean\"]))\n",
        "\n",
        "filter2024 = election_2020_2024[\"two_year_transaction_period\"] == 2024\n",
        "election2024 = pd.Timestamp(\"2024-11-05\")\n",
        "# 674 days\n",
        "print(election2024 - min(election_2020_2024[filter2024][\"date_clean\"]))\n",
        "\n",
        "data2020 = list(election_2020_2024[filter2020][\"cumsum\"].astype(\"int\"))\n",
        "data2024 = list(election_2020_2024[filter2024][\"cumsum\"].astype(\"int\"))"
      ]
    },
    {
      "cell_type": "code",
      "execution_count": 57,
      "metadata": {},
      "outputs": [
        {
          "name": "stdout",
          "output_type": "stream",
          "text": [
            "0.14194142789991934\n",
            "764662.0173674945\n",
            "108537.2186059751\n"
          ]
        }
      ],
      "source": [
        "# totals\n",
        "filter1 = clean_df[\"two_year_transaction_period\"] == 2020\n",
        "# 2020 total\n",
        "total2020 = clean_df[filter1][\"real_donation\"].sum()\n",
        "# 2020 total through 2019\n",
        "filter2 = clean_df[\"year\"] <= 2019\n",
        "toDate2020 = clean_df[filter1 & filter2][\"real_donation\"].sum()\n",
        "percToDate2020 = toDate2020 / total2020\n",
        "print(toDate2020 / total2020)  # 14.19%\n",
        "\n",
        "# 2020 to date\n",
        "filter1 = clean_df[\"two_year_transaction_period\"] == 2024\n",
        "filter2 = clean_df[\"year\"] <= 2023\n",
        "toDate2024 = clean_df[filter1 & filter2][\"real_donation\"].sum()\n",
        "total2024 = toDate2024 / percToDate2020\n",
        "print(total2024)\n",
        "print(toDate2024)"
      ]
    },
    {
      "cell_type": "code",
      "execution_count": null,
      "metadata": {},
      "outputs": [],
      "source": [
        "# chart mockups\n",
        "\n",
        "# contributions by election by lean\n",
        "(\n",
        "    ggplot(election_lean_df)  # defining what data to use\n",
        "    + aes(\n",
        "        x=\"two_year_transaction_period\", y=(\"contribution_sum\"), fill=\"simple_lean\"\n",
        "    )  # defining what variable to use\n",
        "    + geom_col(position=\"dodge\")  # defining the type of plot to use\n",
        ")"
      ]
    },
    {
      "cell_type": "code",
      "execution_count": null,
      "metadata": {},
      "outputs": [],
      "source": [
        "# compare 2020 to date vs 2024\n",
        "(\n",
        "    ggplot(election_2020_2024)\n",
        "    + aes(x=\"chart_date\", y=\"cumsum\", color=\"two_year_transaction_period\")\n",
        "    + geom_point()\n",
        ")"
      ]
    },
    {
      "cell_type": "code",
      "execution_count": null,
      "metadata": {},
      "outputs": [],
      "source": [
        "# donations over time\n",
        "(ggplot(by_month_df) + aes(x=\"date\", y=\"contribution_receipt_amount\") + geom_line())"
      ]
    }
  ],
  "metadata": {
    "kernelspec": {
      "display_name": "Python 3 (ipykernel)",
      "language": "python",
      "name": "python3"
    },
    "language_info": {
      "codemirror_mode": {
        "name": "ipython",
        "version": 3
      },
      "file_extension": ".py",
      "mimetype": "text/x-python",
      "name": "python",
      "nbconvert_exporter": "python",
      "pygments_lexer": "ipython3",
      "version": "3.10.9"
    }
  },
  "nbformat": 4,
  "nbformat_minor": 2
}
